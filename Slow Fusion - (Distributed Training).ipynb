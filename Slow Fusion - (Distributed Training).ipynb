{
  "nbformat": 4,
  "nbformat_minor": 0,
  "metadata": {
    "colab": {
      "name": "Slow Fusion (Distributed Training).ipynb",
      "provenance": [],
      "include_colab_link": true
    },
    "kernelspec": {
      "name": "python3",
      "display_name": "Python 3"
    },
    "language_info": {
      "name": "python"
    }
  },
  "cells": [
    {
      "cell_type": "markdown",
      "metadata": {
        "id": "view-in-github",
        "colab_type": "text"
      },
      "source": [
        "<a href=\"https://colab.research.google.com/github/newb-dev-1008/Human-PokeDex/blob/master/Slow%20Fusion%20-%20(Distributed%20Training).ipynb\" target=\"_parent\"><img src=\"https://colab.research.google.com/assets/colab-badge.svg\" alt=\"Open In Colab\"/></a>"
      ]
    },
    {
      "cell_type": "code",
      "metadata": {
        "id": "8g9qBKCfzFtf"
      },
      "source": [
        "# set the matplotlib backend so figures can be saved in the background\n",
        "import matplotlib\n",
        "matplotlib.use(\"Agg\")\n",
        "\n",
        "# import the necessary packages\n",
        "from tensorflow.keras.preprocessing.image import ImageDataGenerator\n",
        "from tensorflow.keras.layers import AveragePooling2D\n",
        "from tensorflow.keras.applications import ResNet50\n",
        "from tensorflow.keras.layers import Dropout\n",
        "from tensorflow.keras.layers import Flatten\n",
        "from tensorflow.keras.layers import Dense\n",
        "from tensorflow.keras.layers import Input\n",
        "from tensorflow.keras.callbacks import ModelCheckpoint\n",
        "from tensorflow.keras.models import Model\n",
        "from tensorflow.keras import utils as np_utils\n",
        "from tensorflow.keras.optimizers import SGD\n",
        "from sklearn.preprocessing import LabelBinarizer\n",
        "from sklearn.model_selection import train_test_split\n",
        "from sklearn.metrics import classification_report\n",
        "from imutils import paths\n",
        "import matplotlib.pyplot as plt\n",
        "import tensorflow as tf\n",
        "import numpy as np\n",
        "import argparse\n",
        "import pickle\n",
        "import cv2\n",
        "import os\n",
        "from sklearn.utils import shuffle\n",
        "import random\n",
        "from sklearn.preprocessing import OneHotEncoder"
      ],
      "execution_count": null,
      "outputs": []
    },
    {
      "cell_type": "code",
      "metadata": {
        "id": "WetCIkKf1EiQ"
      },
      "source": [
        "inputData = \"C:\\\\Users\\\\Yash Umale\\\\Documents\\\\7th Sem\\\\Research Paper\\\\Datasets\\\\Annotated\"\n",
        "arrPaths = []\n",
        "arrLbls = []\n",
        "lbls = []\n",
        "labelNumber = {\n",
        "    'Abuse' : 0,\n",
        "    'Assault' : 1,\n",
        "    'Fighting' : 2,\n",
        "    'Normal' : 3,\n",
        "    'Robbery' : 4,\n",
        "    'Vandalism' : 5\n",
        "}\n",
        "\n",
        "for labelFolder in os.listdir(inputData):\n",
        "    labelFolderPath = (inputData + \"\\\\\" + labelFolder)\n",
        "    \n",
        "    for clip in os.listdir(labelFolderPath):\n",
        "        count = 0\n",
        "        clipPath = (inputData + \"\\\\\" + labelFolder + \"\\\\\" + clip)\n",
        "        \n",
        "        for frame in range(count, len(os.listdir(clipPath)), 10):\n",
        "            if ((count + 10) < len(os.listdir(clipPath))):\n",
        "                tempArr = os.listdir((inputData + \"\\\\\" + labelFolder + \"\\\\\" + clip))[count : (count + 10)]\n",
        "                for i in range(len(tempArr)):\n",
        "                    tempArr[i] = inputData + \"\\\\\" + labelFolder + \"\\\\\" + clip + \"\\\\\" + tempArr[i]\n",
        "                arrPaths.append(tempArr)\n",
        "                del tempArr\n",
        "                lbls.append(labelNumber[labelFolder])\n",
        "                count += 10"
      ],
      "execution_count": null,
      "outputs": []
    },
    {
      "cell_type": "code",
      "metadata": {
        "id": "pEEDtLZU1Rse"
      },
      "source": [
        "# arrPaths and lbls are the lists of interest\n",
        "# arrPaths = [[imagePath1, imagePath2, ..., imagePath10], [imagePath1, imagePath2, ..., imagePath10] ... for all clips in video]\n",
        "# lbls = [label1, label2, label3, ... for each 10-frame clip in video]\n",
        "\n",
        "[x_train, x_test, y_train, y_test] = train_test_split(arrPaths, lbls, test_size = 0.25, shuffle = True, stratify = None)"
      ],
      "execution_count": null,
      "outputs": []
    },
    {
      "cell_type": "code",
      "metadata": {
        "id": "GfuPg0_c1qsn"
      },
      "source": [
        "# Create a generator for yielding batchSize number of 3D bundles (consisting of 10 images each)\n",
        "# Attach generator for train and test\n",
        "# Train 3DCNN with the train generator\n",
        "\n",
        "dataTrainPaths = [[x_train[i], y_train[i]] for i in range(len(y_train))]\n",
        "dataTestPaths = [[x_test[i], y_test[i]] for i in range(len(y_test))]"
      ],
      "execution_count": null,
      "outputs": []
    },
    {
      "cell_type": "code",
      "metadata": {
        "id": "vsFFsQ9P1uqp"
      },
      "source": [
        ""
      ],
      "execution_count": null,
      "outputs": []
    }
  ]
}